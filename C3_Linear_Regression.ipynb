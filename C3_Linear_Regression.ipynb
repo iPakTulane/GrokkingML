{
  "nbformat": 4,
  "nbformat_minor": 0,
  "metadata": {
    "colab": {
      "provenance": [],
      "authorship_tag": "ABX9TyNUNFqWDrKFJcEQbGQsqQuf",
      "include_colab_link": true
    },
    "kernelspec": {
      "name": "python3",
      "display_name": "Python 3"
    },
    "language_info": {
      "name": "python"
    }
  },
  "cells": [
    {
      "cell_type": "markdown",
      "metadata": {
        "id": "view-in-github",
        "colab_type": "text"
      },
      "source": [
        "<a href=\"https://colab.research.google.com/github/iPakTulane/GrokkingML/blob/main/C3_Linear_Regression.ipynb\" target=\"_parent\"><img src=\"https://colab.research.google.com/assets/colab-badge.svg\" alt=\"Open In Colab\"/></a>"
      ]
    },
    {
      "cell_type": "markdown",
      "source": [
        "#Chapter 3: Linear Regression for a housing dataset\n",
        "\n",
        "##Importing the necessary packages\n"
      ],
      "metadata": {
        "id": "kZtclb06FfjS"
      }
    },
    {
      "cell_type": "code",
      "source": [
        "from matplotlib import pyplot as plt\n",
        "import numpy as np\n",
        "import random"
      ],
      "metadata": {
        "collapsed": true,
        "id": "SOqfGIzKFiaM"
      },
      "execution_count": 11,
      "outputs": []
    },
    {
      "cell_type": "markdown",
      "source": [
        "##Defining and plotting our dataset"
      ],
      "metadata": {
        "id": "_1-LRBcJHc19"
      }
    },
    {
      "cell_type": "code",
      "source": [
        "features = np.array([1, 2, 3, 5, 6, 7])\n",
        "labels = np.array([155, 197, 244, 356,407,448])\n",
        "print(features)\n",
        "print(labels)"
      ],
      "metadata": {
        "colab": {
          "base_uri": "https://localhost:8080/"
        },
        "id": "_gzIZJpaHfIl",
        "outputId": "ca6cfa09-2eb0-46e6-b3a8-6d367eb25bfd"
      },
      "execution_count": 6,
      "outputs": [
        {
          "output_type": "stream",
          "name": "stdout",
          "text": [
            "[1 2 3 5 6 7]\n",
            "[155 197 244 356 407 448]\n"
          ]
        }
      ]
    },
    {
      "cell_type": "code",
      "source": [
        "def plot_points(features, labels):\n",
        "  X = np.array(features)\n",
        "  y = np.array(labels)\n",
        "  plt.scatter(X, y)\n",
        "  plt.xlabel('number of rooms')\n",
        "  plt.ylabel('prices')\n",
        "\n",
        "plot_points(features, labels)"
      ],
      "metadata": {
        "colab": {
          "base_uri": "https://localhost:8080/",
          "height": 449
        },
        "id": "PUwN8Q8qIWIa",
        "outputId": "6effb9fa-0c9a-45c5-edc7-c7ac1ff4f3d5"
      },
      "execution_count": 10,
      "outputs": [
        {
          "output_type": "display_data",
          "data": {
            "text/plain": [
              "<Figure size 640x480 with 1 Axes>"
            ],
            "image/png": "[encoded data removed]"
          },
          "metadata": {}
        }
      ]
    }
  ]
}